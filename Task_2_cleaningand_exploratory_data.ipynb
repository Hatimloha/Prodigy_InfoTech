{
  "nbformat": 4,
  "nbformat_minor": 0,
  "metadata": {
    "colab": {
      "private_outputs": true,
      "provenance": [],
      "include_colab_link": true
    },
    "kernelspec": {
      "name": "python3",
      "display_name": "Python 3"
    },
    "language_info": {
      "name": "python"
    }
  },
  "cells": [
    {
      "cell_type": "markdown",
      "metadata": {
        "id": "view-in-github",
        "colab_type": "text"
      },
      "source": [
        "<a href=\"https://colab.research.google.com/github/Hatimloha/Prodigy_InfoTech/blob/main/Task_2_cleaningand_exploratory_data.ipynb\" target=\"_parent\"><img src=\"https://colab.research.google.com/assets/colab-badge.svg\" alt=\"Open In Colab\"/></a>"
      ]
    },
    {
      "cell_type": "markdown",
      "source": [
        "Perform data cleaningand exploratory data analysis(EDA) on a chosen dataset (e.g.,Titanic dataset from Kaggle).This involves exploringrelationships between variablesand identifying key patterns and trends.​​"
      ],
      "metadata": {
        "id": "XfL3Aq4RZ77z"
      }
    },
    {
      "cell_type": "code",
      "execution_count": null,
      "metadata": {
        "id": "1ijXBMRM33EM"
      },
      "outputs": [],
      "source": [
        "# Import necessary libraries\n",
        "import pandas as pd\n",
        "import numpy as np\n",
        "import matplotlib.pyplot as plt\n",
        "import seaborn as sns"
      ]
    },
    {
      "cell_type": "code",
      "source": [
        "# Load data using panda\n",
        "titanic_df = pd.read_csv(\"/content/train (1).csv\")"
      ],
      "metadata": {
        "id": "8_zwgY4T5Eq0"
      },
      "execution_count": null,
      "outputs": []
    },
    {
      "cell_type": "code",
      "source": [
        "from google.colab import drive\n",
        "drive.mount('/content/drive')"
      ],
      "metadata": {
        "id": "EgcWlq9vbfKg"
      },
      "execution_count": null,
      "outputs": []
    },
    {
      "cell_type": "code",
      "source": [
        "# Display the first few rows of the dataset\n",
        "print(titanic_df.head())"
      ],
      "metadata": {
        "id": "3Cseupx37YDj"
      },
      "execution_count": null,
      "outputs": []
    },
    {
      "cell_type": "code",
      "source": [
        "# Check for missing values\n",
        "print(titanic_df.isnull().sum())"
      ],
      "metadata": {
        "id": "EpUrzZeM7rFj"
      },
      "execution_count": null,
      "outputs": []
    },
    {
      "cell_type": "code",
      "source": [
        "# Handling missing values\n",
        "# For example, fill missing values in the 'Age' column with the median\n",
        "titanic_df['Age'].fillna(titanic_df['Age'].median(), inplace=True)"
      ],
      "metadata": {
        "id": "GK5iNkEn7xQB"
      },
      "execution_count": null,
      "outputs": []
    },
    {
      "cell_type": "code",
      "source": [
        "# Explore the distribution of numerical features\n",
        "sns.histplot(titanic_df['Age'], bins=30, kde=True)\n",
        "plt.title('Distribution of Age')\n",
        "plt.show()"
      ],
      "metadata": {
        "id": "fRn7f10g7zgn"
      },
      "execution_count": null,
      "outputs": []
    },
    {
      "cell_type": "code",
      "source": [
        "# Explore the distribution of categorical features\n",
        "sns.countplot(x='Sex', data=titanic_df)\n",
        "plt.title('Distribution of Gender')\n",
        "plt.show()"
      ],
      "metadata": {
        "id": "5he3J2U176ri"
      },
      "execution_count": null,
      "outputs": []
    },
    {
      "cell_type": "code",
      "source": [
        "# Explore the relationship between variables\n",
        "sns.scatterplot(x='Age', y='Fare', data=titanic_df, hue='Survived', palette='Set1')\n",
        "plt.title('Scatterplot of Age and Fare by Survival')\n",
        "plt.show()"
      ],
      "metadata": {
        "id": "tG6nMjp_79hL"
      },
      "execution_count": null,
      "outputs": []
    },
    {
      "cell_type": "code",
      "source": [
        "# Explore survival rates across different categories\n",
        "sns.barplot(x='Pclass', y='Survived', data=titanic_df, hue='Sex', palette='viridis')\n",
        "plt.title('Survival Rates by Passenger Class and Gender')\n",
        "plt.show()\n"
      ],
      "metadata": {
        "id": "ziKBjvbm8AQp"
      },
      "execution_count": null,
      "outputs": []
    },
    {
      "cell_type": "code",
      "source": [
        "\"\"\"\n",
        "This code performs the following steps:\n",
        "1. Selects all the numeric columns from the Titanic dataset.\n",
        "2. Computes the correlation matrix for the numeric columns to identify relationships.\n",
        "3. Uses Seaborn to create a heatmap visualization of the correlation matrix with the 'coolwarm' color palette.\n",
        "4. Displays annotations on the heatmap to show the correlation values.\n",
        "5. Sets the title of the heatmap as 'Correlation Matrix'.\n",
        "6. Finally, it displays the heatmap using plt.show().\n",
        "\"\"\"\n",
        "\n",
        "numeric_df = titanic_df.select_dtypes(include=['number'])\n",
        "correlation_matrix = numeric_df.corr()\n",
        "sns.heatmap(correlation_matrix, annot=True, cmap='coolwarm')\n",
        "plt.title('Correlation Matrix')\n",
        "plt.show()"
      ],
      "metadata": {
        "id": "NzqQo9cU8DnP"
      },
      "execution_count": null,
      "outputs": []
    }
  ]
}