{
  "nbformat": 4,
  "nbformat_minor": 0,
  "metadata": {
    "colab": {
      "private_outputs": true,
      "provenance": [],
      "include_colab_link": true
    },
    "kernelspec": {
      "name": "python3",
      "display_name": "Python 3"
    },
    "language_info": {
      "name": "python"
    }
  },
  "cells": [
    {
      "cell_type": "markdown",
      "metadata": {
        "id": "view-in-github",
        "colab_type": "text"
      },
      "source": [
        "<a href=\"https://colab.research.google.com/github/Hatimloha/Prodigy_InfoTech/blob/main/Task_1_ages_%26_genders_in_a_population.ipynb\" target=\"_parent\"><img src=\"https://colab.research.google.com/assets/colab-badge.svg\" alt=\"Open In Colab\"/></a>"
      ]
    },
    {
      "cell_type": "markdown",
      "source": [
        "Create a bar chart or histogram to visualize the distribution of a categorical or continuous variable, such as the distribution of *ages or genders in a population*."
      ],
      "metadata": {
        "id": "KdTD7s-E045Z"
      }
    },
    {
      "cell_type": "markdown",
      "source": [
        "# Importing Library"
      ],
      "metadata": {
        "id": "d1bmEzj_Yd_E"
      }
    },
    {
      "cell_type": "code",
      "source": [
        "import matplotlib.pyplot as plt\n",
        "import numpy as np"
      ],
      "metadata": {
        "id": "lJ0CVwd50-kv"
      },
      "execution_count": null,
      "outputs": []
    },
    {
      "cell_type": "markdown",
      "source": [
        "# Creating dataset through random sampling"
      ],
      "metadata": {
        "id": "kaJfNkoJYgrd"
      }
    },
    {
      "cell_type": "code",
      "source": [
        "ages = np.random.randint(18, 65, size=100)"
      ],
      "metadata": {
        "id": "DLklUW4Z1K75"
      },
      "execution_count": null,
      "outputs": []
    },
    {
      "cell_type": "markdown",
      "source": [
        "# Visualization using matplotlib"
      ],
      "metadata": {
        "id": "bxbdyTbcYzCA"
      }
    },
    {
      "cell_type": "code",
      "source": [
        "# Create a histogram\n",
        "plt.hist(ages, bins=10, color='skyblue', edgecolor='black')\n",
        "\n",
        "# Add labels and title\n",
        "plt.xlabel('Age')\n",
        "plt.ylabel('Frequency')\n",
        "plt.title('Histogram of contionus variable')\n",
        "\n",
        "# Show the plot\n",
        "plt.show()"
      ],
      "metadata": {
        "id": "5UjN-4gO1QqQ"
      },
      "execution_count": null,
      "outputs": []
    },
    {
      "cell_type": "code",
      "source": [
        "import matplotlib.pyplot as plt\n",
        "\n",
        "#sample data\n",
        "genders = ['Male', 'Female', 'Non-Binary', 'Other']\n",
        "counts = [120, 150, 20, 10]"
      ],
      "metadata": {
        "id": "gaLQPEub1beT"
      },
      "execution_count": null,
      "outputs": []
    },
    {
      "cell_type": "markdown",
      "source": [
        "# Separating data as per Gender"
      ],
      "metadata": {
        "id": "a_VSJiacZOwE"
      }
    },
    {
      "cell_type": "code",
      "source": [
        "# Create a bar chart\n",
        "plt.bar(genders, counts, color=['blue', 'pink', 'purple', 'gray'])\n",
        "\n",
        "# Add labels and title\n",
        "plt.xlabel('Gender')\n",
        "plt.ylabel('Count')\n",
        "plt.title('Bar chart of categorical varibale')\n",
        "\n",
        "# Show the plot\n",
        "plt.show()"
      ],
      "metadata": {
        "id": "tIyagUQ51fqZ"
      },
      "execution_count": null,
      "outputs": []
    }
  ]
}